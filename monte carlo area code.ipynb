{
 "cells": [
  {
   "cell_type": "markdown",
   "metadata": {},
   "source": [
    "<h1>Calculation of Area under the curve using  Monte Carlo simulations!</h1>"
   ]
  },
  {
   "cell_type": "code",
   "execution_count": 966,
   "metadata": {},
   "outputs": [],
   "source": [
    "# importing necessary libraries\n",
    "import numpy as np\n",
    "import math\n",
    "import matplotlib.pyplot as plt"
   ]
  },
  {
   "cell_type": "markdown",
   "metadata": {},
   "source": [
    "# selection of function"
   ]
  },
  {
   "cell_type": "code",
   "execution_count": 967,
   "metadata": {},
   "outputs": [],
   "source": [
    "def f(x):\n",
    "    #return 4* x **3 + 3* x**2\n",
    "    #return 1 - math.sin(x)\n",
    "    return math.exp(x)\n",
    "    #return (1-math.sqrt(abs(x)))/2\n",
    "    #return -4*x**3 + 3*x**2 +25*x + 6\n",
    "    #return math.sin(x)\n",
    "    #return x**2 - 5\n",
    "    "
   ]
  },
  {
   "cell_type": "markdown",
   "metadata": {},
   "source": [
    "<h1> defining the actual area </h1> \n",
    "<h4> here we used riemanns sums method to set a reference area</h4>"
   ]
  },
  {
   "cell_type": "code",
   "execution_count": 968,
   "metadata": {},
   "outputs": [],
   "source": [
    "def actual(a,b):\n",
    "    n = 10000\n",
    "    Area = 0\n",
    "    dx = (b-a)/n\n",
    "    x = np.linspace(a,b,n) \n",
    "    for i in x:\n",
    "        h = f(i)\n",
    "        da = abs(h)*dx\n",
    "        Area += da\n",
    "    #print(f\"the area by riemanns sums is {Area}\")\n",
    "    \n",
    "    return Area\n",
    "    "
   ]
  },
  {
   "cell_type": "markdown",
   "metadata": {},
   "source": [
    "<h1>setting x limits and number of points</h1>"
   ]
  },
  {
   "cell_type": "code",
   "execution_count": 969,
   "metadata": {
    "scrolled": true
   },
   "outputs": [
    {
     "data": {
      "image/png": "[encoded data removed]",
      "text/plain": [
       "<Figure size 720x360 with 1 Axes>"
      ]
     },
     "metadata": {
      "needs_background": "light"
     },
     "output_type": "display_data"
    }
   ],
   "source": [
    "a = -4.5\n",
    "b = 4.5\n",
    "n = 800\n",
    "\n",
    "y = []\n",
    "x = np.linspace(a,b,n) \n",
    "for i in x:\n",
    "    y.append(f(i))\n",
    "plt.figure(figsize=(10,5))\n",
    "plt.plot(x,y,'g')\n",
    "plt.title(\"plot visualisation\")\n",
    "plt.grid()\n"
   ]
  },
  {
   "cell_type": "markdown",
   "metadata": {},
   "source": [
    "<h2> generating random points</h2>"
   ]
  },
  {
   "cell_type": "code",
   "execution_count": 970,
   "metadata": {},
   "outputs": [],
   "source": [
    "y = []                            \n",
    "x = np.sort(np.random.uniform(a,b,n))\n",
    "for i in x:\n",
    "    y.append(f(i))\n",
    "    \n",
    "x_gen = x\n",
    "y_gen = np.random.uniform(min(0,min(y)),max(max(y),0),len(x))  # any value within the interval is equally likely to be drawn"
   ]
  },
  {
   "cell_type": "markdown",
   "metadata": {},
   "source": [
    "<h2>the array 'arr' stores these random points</h2>"
   ]
  },
  {
   "cell_type": "code",
   "execution_count": 971,
   "metadata": {},
   "outputs": [],
   "source": [
    "arr = []\n",
    "for i in range(len(x_gen)):\n",
    "    arr.append([x_gen[i],y_gen[i]])"
   ]
  },
  {
   "cell_type": "code",
   "execution_count": 972,
   "metadata": {},
   "outputs": [],
   "source": [
    "# area of the box enclosing entire curve\n",
    "box_area = (max(x) - min(x)) * ((max(0,max(y))) - min(0,min(y)))"
   ]
  },
  {
   "cell_type": "markdown",
   "metadata": {},
   "source": [
    "<h2>segregation of points</h2>"
   ]
  },
  {
   "cell_type": "code",
   "execution_count": 973,
   "metadata": {},
   "outputs": [
    {
     "name": "stdout",
     "output_type": "stream",
     "text": [
      " box_area : 808.127305254473 \n",
      " enclosed area : 84.85336705171966 \n",
      " required area 90.03754048590082 \n",
      "\n",
      " points inside: 84 \n",
      " total points = 800\n",
      "\n",
      "relative error is -5.757791034943882 %\n"
     ]
    },
    {
     "data": {
      "image/png": "[encoded data removed]",
      "text/plain": [
       "<Figure size 432x288 with 1 Axes>"
      ]
     },
     "metadata": {
      "needs_background": "light"
     },
     "output_type": "display_data"
    }
   ],
   "source": [
    "arr_in = []\n",
    "points_in = 0\n",
    "x_in, y_in = [],[]\n",
    "for i in arr:\n",
    "    if i[1] >= 0:\n",
    "        if i[1] <= f(i[0]):\n",
    "            arr_in.append(i)\n",
    "            x_in.append(i[0])\n",
    "            y_in.append(i[1])\n",
    "            points_in += 1\n",
    "    else:\n",
    "        if i[1] >= f(i[0]):\n",
    "            arr_in.append(i)\n",
    "            x_in.append(i[0])\n",
    "            y_in.append(i[1])\n",
    "            points_in += 1\n",
    "        \n",
    "plt.plot(x_in,y_in,'*')\n",
    "plt.plot(x,y,'r')\n",
    "plt.grid()\n",
    "\n",
    "area = (points_in/n) * box_area\n",
    "rel_err = ((area/actual(a,b)) - 1) * 100\n",
    "print(f' box_area : {box_area} \\n enclosed area : {area} \\n required area {actual(a,b)} \\n\\n points inside: {points_in} \\n total points = {n}\\n')\n",
    "print(f'relative error is {rel_err} %')"
   ]
  },
  {
   "cell_type": "markdown",
   "metadata": {},
   "source": [
    "\n",
    "<h1>Average out the areas for different number of points </h1>"
   ]
  },
  {
   "cell_type": "code",
   "execution_count": 974,
   "metadata": {},
   "outputs": [],
   "source": [
    "def err_calc(n):                  # function to segregate points based on single n value.\n",
    "    y = []\n",
    "    x = np.sort(np.random.uniform(a,b,n))\n",
    "    for i in x:\n",
    "        y.append(f(i))\n",
    "\n",
    "    x_gen = x\n",
    "    y_gen = np.random.uniform(min(0,min(y)),max(max(y),0),len(x))\n",
    "    arr = []\n",
    "    for i in range(len(x_gen)):\n",
    "        arr.append([x_gen[i],y_gen[i]])\n",
    "\n",
    "    box_area = (max(x) - min(x)) * ((max(0,max(y))) - min(0,min(y)))\n",
    "\n",
    "    arr_in = []\n",
    "    points_in = 0\n",
    "    x_in, y_in = [],[]\n",
    "    for i in arr:\n",
    "        if i[1] >= 0:\n",
    "            if i[1] <= f(i[0]):\n",
    "                arr_in.append(i)\n",
    "                x_in.append(i[0])\n",
    "                y_in.append(i[1])\n",
    "                points_in += 1\n",
    "        else:\n",
    "            if i[1] >= f(i[0]):\n",
    "                arr_in.append(i)\n",
    "                x_in.append(i[0])\n",
    "                y_in.append(i[1])\n",
    "                points_in += 1\n",
    "\n",
    "\n",
    "    area = (points_in/n) * box_area\n",
    "    rel_err = ((area/actual(a,b)) - 1) * 100\n",
    "\n",
    "    return rel_err , points_in\n",
    "    "
   ]
  },
  {
   "cell_type": "code",
   "execution_count": 975,
   "metadata": {},
   "outputs": [],
   "source": [
    "def range_calc(a,b):        # function to find areas for multiple number of points and give out the average area.\n",
    "    n = [50,100,150,200,250,300,350,400,450,500,550,600,650,700,750,800,850,900,950,1000]\n",
    "    #n = [100,100,100,100,100,100,100,100,100,100,100,100,100,100,100,100,100,100,100,100]\n",
    "    ratio_adder = 0\n",
    "    print(\"points_in  total pts  relative error    \")\n",
    "    for i in n:\n",
    "        rel_err,points_in = err_calc(i)\n",
    "        ratio_adder += (points_in/i)\n",
    "        print(f\"{points_in}          {i}        {rel_err}\")\n",
    "    \n",
    "    avg_area = (ratio_adder/len(n)) * box_area\n",
    "    return  avg_area\n",
    "   "
   ]
  },
  {
   "cell_type": "code",
   "execution_count": 976,
   "metadata": {},
   "outputs": [
    {
     "name": "stdout",
     "output_type": "stream",
     "text": [
      "points_in  total pts  relative error    \n",
      "3          50        -47.89420159244304\n",
      "6          100        -46.56803445869302\n",
      "15          150        -11.222292002614942\n",
      "26          200        10.922144122301948\n",
      "21          250        -29.249114847783233\n",
      "33          300        -5.122602951173305\n",
      "43          350        9.888349596310775\n",
      "47          400        5.272841120128535\n",
      "63          450        25.726914756378292\n",
      "52          500        -7.174830161557654\n",
      "63          550        1.3041170998924434\n",
      "79          600        17.235832901920254\n",
      "72          650        -2.703208987214778\n",
      "65          700        -16.673083761723507\n",
      "83          750        -2.6639370272072305\n",
      "77          800        -13.716420710851729\n",
      "87          850        -8.283836264825627\n",
      "114          900        13.506621394207574\n",
      "114          950        7.520205094216581\n",
      "129          1000        14.73374416814437\n",
      "\n",
      " average area is 87.40429815602693 \n",
      " required area is 90.03754048590082\n",
      "\n",
      " relative error for avg. area is -2.9246049099777904\n"
     ]
    }
   ],
   "source": [
    "avg_area = range_calc(-5,5)\n",
    "print(f'\\n average area is {avg_area} \\n required area is {actual(a,b)}')\n",
    "print(f\"\\n relative error for avg. area is {((avg_area/actual(a,b))-1) * 100}\")"
   ]
  },
  {
   "cell_type": "markdown",
   "metadata": {},
   "source": [
    "the following observations were made by averaging out the areas:\n",
    "    1. for same number of points iteratively calculating the area 10 times and \n",
    "    averaging it shows that relative error fluctuations lowered down but was not as effective as point 2.\n",
    "    2. if same process is repeated for diffrent number of points each time then\n",
    "    the average area value lies very close to the actual area"
   ]
  },
  {
   "cell_type": "markdown",
   "metadata": {},
   "source": [
    "# For closed curve"
   ]
  },
  {
   "cell_type": "markdown",
   "metadata": {},
   "source": [
    "For a closed curve some conditions have to be changed.\n",
    "For this case we have assumed that the limits of the curve will be provided to us.\n",
    "Ideally the method should work properly on any type of closed curve but for our analysis we will only be considering curves with defined single equations."
   ]
  },
  {
   "cell_type": "code",
   "execution_count": 977,
   "metadata": {},
   "outputs": [],
   "source": [
    "def closed(x,y):\n",
    "    return((x**2)+(y**2)-9)\n",
    "    #return(((x**2)/4)+(y**2)-1)"
   ]
  },
  {
   "cell_type": "code",
   "execution_count": 1013,
   "metadata": {},
   "outputs": [],
   "source": [
    "x_lim1,x_lim2 = -4,4\n",
    "y_lim1,y_lim2 = -4,4\n",
    "\n",
    "x_gen_c = np.sort(np.random.uniform(-4,4,100))\n",
    "y_gen_c = np.sort(np.random.uniform(-4,4,100))\n",
    "\n",
    "\n",
    "points=0\n",
    "x1_c,y1_c=[],[]\n",
    "\n",
    "for k in range(len(x_gen_c)):\n",
    "    for j in range(len(y_gen_c)):\n",
    "        if closed(x_gen_c[k],y_gen_c[j])<=0:\n",
    "            x1_c.append(x_gen_c[k])\n",
    "            y1_c.append(y_gen_c[j])\n",
    "            points+=1"
   ]
  },
  {
   "cell_type": "code",
   "execution_count": null,
   "metadata": {},
   "outputs": [],
   "source": []
  },
  {
   "cell_type": "code",
   "execution_count": 1002,
   "metadata": {},
   "outputs": [],
   "source": [
    "box_area_c = (x_lim2-x_lim1)*(y_lim2-y_lim1)"
   ]
  },
  {
   "cell_type": "code",
   "execution_count": 1003,
   "metadata": {},
   "outputs": [],
   "source": [
    "area_c = points*(box_area_c)/(len(x_gen_c)*len(y_gen_c))"
   ]
  },
  {
   "cell_type": "code",
   "execution_count": 1004,
   "metadata": {},
   "outputs": [
    {
     "name": "stdout",
     "output_type": "stream",
     "text": [
      "actual area of circle:  28.274333882308138\n",
      "area calculated by us:  28.335104\n"
     ]
    }
   ],
   "source": [
    "print(\"actual area of circle: \", np.pi*(3**2))\n",
    "print(\"area calculated by us: \", area_c)"
   ]
  },
  {
   "cell_type": "markdown",
   "metadata": {},
   "source": [
    "For curves which have multiple domains we could check the position of the point in the range in which the particular curve is valid. We have not coded for the above said condition as the basic idea of this project was conveying the possible method of area calculation for curves in which numerical method cannot be applied easily."
   ]
  },
  {
   "cell_type": "code",
   "execution_count": null,
   "metadata": {},
   "outputs": [],
   "source": []
  }
 ],
 "metadata": {
  "kernelspec": {
   "display_name": "Python 3",
   "language": "python",
   "name": "python3"
  },
  "language_info": {
   "codemirror_mode": {
    "name": "ipython",
    "version": 3
   },
   "file_extension": ".py",
   "mimetype": "text/x-python",
   "name": "python",
   "nbconvert_exporter": "python",
   "pygments_lexer": "ipython3",
   "version": "3.7.3"
  }
 },
 "nbformat": 4,
 "nbformat_minor": 2
}
